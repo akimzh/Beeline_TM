{
 "cells": [
  {
   "cell_type": "code",
   "execution_count": 1,
   "metadata": {},
   "outputs": [],
   "source": [
    "import pandas as pd\n",
    "import datetime"
   ]
  },
  {
   "cell_type": "markdown",
   "metadata": {},
   "source": [
    "Импортировал датасэт"
   ]
  },
  {
   "cell_type": "code",
   "execution_count": 2,
   "metadata": {},
   "outputs": [],
   "source": [
    "df = pd.read_csv('/Users/apples/Desktop/Beeline TM/вложение 1/02_Data_test.csv', sep=';')"
   ]
  },
  {
   "cell_type": "markdown",
   "metadata": {},
   "source": [
    "Проверил какое количество одного номера содержится в датасэте"
   ]
  },
  {
   "cell_type": "code",
   "execution_count": 3,
   "metadata": {},
   "outputs": [
    {
     "name": "stdout",
     "output_type": "stream",
     "text": [
      "93\n"
     ]
    }
   ],
   "source": [
    "print(len(df[df.msisdn == 158524417875]))"
   ]
  },
  {
   "cell_type": "markdown",
   "metadata": {},
   "source": [
    "Импортировал датасэт с фактами, которые номера телефонов скорее всего принадлежат одной персоне"
   ]
  },
  {
   "cell_type": "code",
   "execution_count": 4,
   "metadata": {},
   "outputs": [],
   "source": [
    "df1 = pd.read_excel('/Users/apples/Desktop/Beeline TM/вложение 1/01_Факты.xlsx', header = None)"
   ]
  },
  {
   "cell_type": "markdown",
   "metadata": {},
   "source": [
    "Задаю header данным по фактам.\n",
    "Далее делаю merge номеров телефонов из данных по фактам с данными о перемещении абонентов"
   ]
  },
  {
   "cell_type": "code",
   "execution_count": 5,
   "metadata": {},
   "outputs": [],
   "source": [
    "df1.columns = ['Number1', 'Number2'] \n",
    "df_final = pd.merge(df, df1, how ='left', left_on = 'msisdn',right_on='Number1')\n",
    "df1.columns = ['Number_1', 'Number_2']       \n",
    "\n",
    "df_final = pd.merge(df_final, df1, how ='left', left_on = 'msisdn',right_on='Number_2')"
   ]
  },
  {
   "cell_type": "markdown",
   "metadata": {},
   "source": [
    "Убираю повторяющиеся номера телефонов из df_final"
   ]
  },
  {
   "cell_type": "code",
   "execution_count": 6,
   "metadata": {},
   "outputs": [],
   "source": [
    "df_final.drop(['Number1','Number_2'], axis = 1, inplace = True)"
   ]
  },
  {
   "cell_type": "markdown",
   "metadata": {},
   "source": [
    "Задаю новую переменную, которая содержит те номера телефонов, которые скорее всего принадлежат 1 персоне"
   ]
  },
  {
   "cell_type": "code",
   "execution_count": 7,
   "metadata": {},
   "outputs": [],
   "source": [
    "import math\n",
    "def one_var(row):\n",
    "     if math.isnan(row['Number2']) is False:\n",
    "         return row['Number2']\n",
    "     else:\n",
    "         return row['Number_1']\n",
    "\n",
    "\n",
    "df_final['Duplicate'] = df_final.apply(lambda row: one_var(row), axis = 1)\n",
    "df_final.drop(['Number2', 'Number_1'], axis = 1, inplace = True)"
   ]
  },
  {
   "cell_type": "markdown",
   "metadata": {},
   "source": [
    "Так как задача стоит определить абонентов msisdn, которые принадлежат одной персоне, логика такая:\n",
    "1. Используя метод Матриц Самоподобиий (Similarity Matrix), выявить самые близкие дистанции, которые могут принадлежать одной персоне\n",
    "с помощью числовых преобразований. Это поспособствует определению персон, которые скорее всего имеют несколько номеров по величине допустимой дистанций. \n",
    "2. Использовать метод KNN ближайших соседей, как модель определения более точного прогнозирования абонентов."
   ]
  },
  {
   "cell_type": "markdown",
   "metadata": {},
   "source": [
    "Так как переменная cell_type не является категориальной в данном df, привожу к соответствующему виду используя LabelEncoder"
   ]
  },
  {
   "cell_type": "code",
   "execution_count": 8,
   "metadata": {},
   "outputs": [],
   "source": [
    "from sklearn.preprocessing import LabelEncoder as LE\n",
    "le = LE()\n",
    "\n",
    "le.fit(df_final.cell_type)\n",
    "df_final['cell_type'] = le.transform(df_final.cell_type)"
   ]
  },
  {
   "cell_type": "markdown",
   "metadata": {},
   "source": [
    "Заготовка к KNN, включает зависимую и независимые переменные. "
   ]
  },
  {
   "cell_type": "code",
   "execution_count": 9,
   "metadata": {},
   "outputs": [
    {
     "name": "stderr",
     "output_type": "stream",
     "text": [
      "/Users/apples/opt/anaconda3/lib/python3.7/site-packages/ipykernel_launcher.py:2: SettingWithCopyWarning: \n",
      "A value is trying to be set on a copy of a slice from a DataFrame\n",
      "\n",
      "See the caveats in the documentation: https://pandas.pydata.org/pandas-docs/stable/user_guide/indexing.html#returning-a-view-versus-a-copy\n",
      "  \n",
      "/Users/apples/opt/anaconda3/lib/python3.7/site-packages/pandas/core/frame.py:3997: SettingWithCopyWarning: \n",
      "A value is trying to be set on a copy of a slice from a DataFrame\n",
      "\n",
      "See the caveats in the documentation: https://pandas.pydata.org/pandas-docs/stable/user_guide/indexing.html#returning-a-view-versus-a-copy\n",
      "  errors=errors,\n"
     ]
    }
   ],
   "source": [
    "X = df_final.dropna(subset = ['Duplicate'], axis = 0)\n",
    "X.dropna(subset = ['imei'], axis = 0, inplace = True)\n",
    "y = X['Duplicate']\n",
    "X.drop('Duplicate', axis = 1, inplace = True)"
   ]
  },
  {
   "cell_type": "markdown",
   "metadata": {},
   "source": [
    "### Similarity Matrix"
   ]
  },
  {
   "cell_type": "markdown",
   "metadata": {},
   "source": [
    "Провожу очистку данных неопознанных значений."
   ]
  },
  {
   "cell_type": "code",
   "execution_count": 10,
   "metadata": {},
   "outputs": [],
   "source": [
    "df_final.drop('Duplicate', axis = 1, inplace = True)\n",
    "df_final.dropna(subset = ['imei'], axis = 0, inplace = True)"
   ]
  },
  {
   "cell_type": "markdown",
   "metadata": {},
   "source": [
    "Провожу агрегацию по абонентам, чтобы Евклид не был громоздким. Так как строк в первоначальном DataFrame rows = 174123. \n",
    "Это очень сильно влияет на производительность кода."
   ]
  },
  {
   "cell_type": "code",
   "execution_count": 11,
   "metadata": {},
   "outputs": [],
   "source": [
    "df_final_agg = df_final.groupby(['msisdn']).mean()"
   ]
  },
  {
   "cell_type": "code",
   "execution_count": 12,
   "metadata": {},
   "outputs": [
    {
     "data": {
      "text/html": [
       "<div>\n",
       "<style scoped>\n",
       "    .dataframe tbody tr th:only-of-type {\n",
       "        vertical-align: middle;\n",
       "    }\n",
       "\n",
       "    .dataframe tbody tr th {\n",
       "        vertical-align: top;\n",
       "    }\n",
       "\n",
       "    .dataframe thead th {\n",
       "        text-align: right;\n",
       "    }\n",
       "</style>\n",
       "<table border=\"1\" class=\"dataframe\">\n",
       "  <thead>\n",
       "    <tr style=\"text-align: right;\">\n",
       "      <th></th>\n",
       "      <th>lac</th>\n",
       "      <th>cid</th>\n",
       "      <th>imei</th>\n",
       "      <th>event_type</th>\n",
       "      <th>tstamp</th>\n",
       "      <th>long</th>\n",
       "      <th>lat</th>\n",
       "      <th>max_dist</th>\n",
       "      <th>cell_type</th>\n",
       "      <th>start_angle</th>\n",
       "      <th>end_angle</th>\n",
       "    </tr>\n",
       "    <tr>\n",
       "      <th>msisdn</th>\n",
       "      <th></th>\n",
       "      <th></th>\n",
       "      <th></th>\n",
       "      <th></th>\n",
       "      <th></th>\n",
       "      <th></th>\n",
       "      <th></th>\n",
       "      <th></th>\n",
       "      <th></th>\n",
       "      <th></th>\n",
       "      <th></th>\n",
       "    </tr>\n",
       "  </thead>\n",
       "  <tbody>\n",
       "    <tr>\n",
       "      <th>158500002513</th>\n",
       "      <td>5082.000000</td>\n",
       "      <td>43113.125000</td>\n",
       "      <td>3.573050e+14</td>\n",
       "      <td>3.625000</td>\n",
       "      <td>1.369370e+12</td>\n",
       "      <td>38.133900</td>\n",
       "      <td>56.333600</td>\n",
       "      <td>2265.000000</td>\n",
       "      <td>2.000000</td>\n",
       "      <td>231.250000</td>\n",
       "      <td>246.250000</td>\n",
       "    </tr>\n",
       "    <tr>\n",
       "      <th>158500006927</th>\n",
       "      <td>6821.592857</td>\n",
       "      <td>27604.271429</td>\n",
       "      <td>3.548705e+14</td>\n",
       "      <td>4.571429</td>\n",
       "      <td>1.369380e+12</td>\n",
       "      <td>37.567614</td>\n",
       "      <td>55.896908</td>\n",
       "      <td>1147.771429</td>\n",
       "      <td>2.000000</td>\n",
       "      <td>216.478571</td>\n",
       "      <td>232.521429</td>\n",
       "    </tr>\n",
       "    <tr>\n",
       "      <th>158500010757</th>\n",
       "      <td>7669.452174</td>\n",
       "      <td>22013.260870</td>\n",
       "      <td>3.570200e+14</td>\n",
       "      <td>4.878261</td>\n",
       "      <td>1.369392e+12</td>\n",
       "      <td>37.494490</td>\n",
       "      <td>55.862238</td>\n",
       "      <td>864.356522</td>\n",
       "      <td>1.791304</td>\n",
       "      <td>144.652174</td>\n",
       "      <td>223.434783</td>\n",
       "    </tr>\n",
       "    <tr>\n",
       "      <th>158500013119</th>\n",
       "      <td>7505.743802</td>\n",
       "      <td>25684.512397</td>\n",
       "      <td>3.529001e+14</td>\n",
       "      <td>2.446281</td>\n",
       "      <td>1.369383e+12</td>\n",
       "      <td>37.495393</td>\n",
       "      <td>55.730598</td>\n",
       "      <td>827.173554</td>\n",
       "      <td>1.983471</td>\n",
       "      <td>171.508264</td>\n",
       "      <td>188.822314</td>\n",
       "    </tr>\n",
       "    <tr>\n",
       "      <th>158500019021</th>\n",
       "      <td>5011.062500</td>\n",
       "      <td>41709.312500</td>\n",
       "      <td>3.516761e+14</td>\n",
       "      <td>4.656250</td>\n",
       "      <td>1.369417e+12</td>\n",
       "      <td>37.926522</td>\n",
       "      <td>55.975425</td>\n",
       "      <td>1272.750000</td>\n",
       "      <td>2.000000</td>\n",
       "      <td>161.875000</td>\n",
       "      <td>188.125000</td>\n",
       "    </tr>\n",
       "  </tbody>\n",
       "</table>\n",
       "</div>"
      ],
      "text/plain": [
       "                      lac           cid          imei  event_type  \\\n",
       "msisdn                                                              \n",
       "158500002513  5082.000000  43113.125000  3.573050e+14    3.625000   \n",
       "158500006927  6821.592857  27604.271429  3.548705e+14    4.571429   \n",
       "158500010757  7669.452174  22013.260870  3.570200e+14    4.878261   \n",
       "158500013119  7505.743802  25684.512397  3.529001e+14    2.446281   \n",
       "158500019021  5011.062500  41709.312500  3.516761e+14    4.656250   \n",
       "\n",
       "                    tstamp       long        lat     max_dist  cell_type  \\\n",
       "msisdn                                                                     \n",
       "158500002513  1.369370e+12  38.133900  56.333600  2265.000000   2.000000   \n",
       "158500006927  1.369380e+12  37.567614  55.896908  1147.771429   2.000000   \n",
       "158500010757  1.369392e+12  37.494490  55.862238   864.356522   1.791304   \n",
       "158500013119  1.369383e+12  37.495393  55.730598   827.173554   1.983471   \n",
       "158500019021  1.369417e+12  37.926522  55.975425  1272.750000   2.000000   \n",
       "\n",
       "              start_angle   end_angle  \n",
       "msisdn                                 \n",
       "158500002513   231.250000  246.250000  \n",
       "158500006927   216.478571  232.521429  \n",
       "158500010757   144.652174  223.434783  \n",
       "158500013119   171.508264  188.822314  \n",
       "158500019021   161.875000  188.125000  "
      ]
     },
     "execution_count": 12,
     "metadata": {},
     "output_type": "execute_result"
    }
   ],
   "source": [
    "df_final_agg.head()"
   ]
  },
  {
   "cell_type": "code",
   "execution_count": 13,
   "metadata": {},
   "outputs": [],
   "source": [
    "df_final_agg.reset_index(level=0, inplace=True) "
   ]
  },
  {
   "cell_type": "code",
   "execution_count": 14,
   "metadata": {},
   "outputs": [],
   "source": [
    "import pandas as pd\n",
    "from scipy.spatial.distance import euclidean, pdist, squareform\n",
    "\n",
    "\n",
    "def similarity_func(u, v):\n",
    "    return 1/(1+euclidean(u,v))\n",
    "\n",
    "\n",
    "dists = pdist(df_final_agg, similarity_func)\n",
    "DF_euclid = pd.DataFrame(squareform(dists), columns=df_final_agg.msisdn, index=df_final_agg.msisdn)\n"
   ]
  },
  {
   "cell_type": "markdown",
   "metadata": {},
   "source": [
    "Агрегирую average всех дистанций, чтобы получить неповторяющие значения msisdn в DataFrame.\n",
    "Делаю такую операцию со строчками и со столбцами."
   ]
  },
  {
   "cell_type": "code",
   "execution_count": 15,
   "metadata": {},
   "outputs": [],
   "source": [
    "df_ = pd.DataFrame(DF_euclid.groupby(DF_euclid.index).mean())\n",
    "df_t = df_.T\n",
    "df__ = pd.DataFrame(df_t.groupby(df_t.index).mean())\n",
    "DF_euclid = df__.T"
   ]
  },
  {
   "cell_type": "markdown",
   "metadata": {},
   "source": [
    "Формирую список всех значений с наименьшей дистанцией. В данном случае меньше 1.5e-15.\n",
    "С этим числом можно играться и как результат будут в списке разное количество номеров телефонов."
   ]
  },
  {
   "cell_type": "code",
   "execution_count": 16,
   "metadata": {},
   "outputs": [],
   "source": [
    "postup = []\n",
    "for i in DF_euclid.index:\n",
    "    for j in DF_euclid.columns:\n",
    "        if i != j:\n",
    "            if DF_euclid.loc[i, j] < 1.5e-15:\n",
    "                #print(DF_euclid.loc[i, j])\n",
    "                postup.append((i, j))"
   ]
  },
  {
   "cell_type": "code",
   "execution_count": 17,
   "metadata": {},
   "outputs": [
    {
     "name": "stdout",
     "output_type": "stream",
     "text": [
      "576\n"
     ]
    }
   ],
   "source": [
    "from itertools import chain\n",
    "k = list(chain.from_iterable(postup))\n",
    "list_ = list(set(k))      \n",
    "print(len(list_))\n",
    "#print(postup[0:4])"
   ]
  },
  {
   "cell_type": "markdown",
   "metadata": {},
   "source": [
    "Разделяю данные. Для подготовки всех допустимых вариантов номеров телефонов. Задаю таких абонентов по всей видимости имеющих одинаковые номера телефона, а остальные с большей вероятности не подошли по дистанции по методу Матриц Самоподобий.\n",
    "То есть теперь у нас есть персоны, которые разделены на тех у кого есть 2 номера и тех у кого только 1."
   ]
  },
  {
   "cell_type": "code",
   "execution_count": 18,
   "metadata": {},
   "outputs": [],
   "source": [
    "df_final = df_final[df_final.msisdn.isin(list_)]"
   ]
  },
  {
   "cell_type": "code",
   "execution_count": 19,
   "metadata": {},
   "outputs": [
    {
     "data": {
      "text/plain": [
       "(40426, 12)"
      ]
     },
     "execution_count": 19,
     "metadata": {},
     "output_type": "execute_result"
    }
   ],
   "source": [
    "df_final.shape"
   ]
  },
  {
   "cell_type": "markdown",
   "metadata": {},
   "source": [
    "### KNN"
   ]
  },
  {
   "cell_type": "code",
   "execution_count": 20,
   "metadata": {},
   "outputs": [],
   "source": [
    "from sklearn.neighbors import KNeighborsClassifier as KNN"
   ]
  },
  {
   "cell_type": "code",
   "execution_count": 21,
   "metadata": {},
   "outputs": [],
   "source": [
    "estimator = KNN(n_neighbors = 1)"
   ]
  },
  {
   "cell_type": "code",
   "execution_count": 22,
   "metadata": {},
   "outputs": [
    {
     "data": {
      "text/plain": [
       "KNeighborsClassifier(algorithm='auto', leaf_size=30, metric='minkowski',\n",
       "                     metric_params=None, n_jobs=None, n_neighbors=1, p=2,\n",
       "                     weights='uniform')"
      ]
     },
     "execution_count": 22,
     "metadata": {},
     "output_type": "execute_result"
    }
   ],
   "source": [
    "estimator.fit(X, y)"
   ]
  },
  {
   "cell_type": "code",
   "execution_count": 23,
   "metadata": {},
   "outputs": [],
   "source": [
    "y_pred = estimator.predict(df_final)"
   ]
  },
  {
   "cell_type": "code",
   "execution_count": 24,
   "metadata": {},
   "outputs": [],
   "source": [
    "frame = { 'msisdn_1': df_final['msisdn'].values, 'msisdn_2':y_pred }"
   ]
  },
  {
   "cell_type": "code",
   "execution_count": 25,
   "metadata": {},
   "outputs": [],
   "source": [
    "result = pd.DataFrame(frame)"
   ]
  },
  {
   "cell_type": "code",
   "execution_count": 26,
   "metadata": {},
   "outputs": [],
   "source": [
    "result['person_id'] = result.index"
   ]
  },
  {
   "cell_type": "code",
   "execution_count": 27,
   "metadata": {},
   "outputs": [
    {
     "data": {
      "text/html": [
       "<div>\n",
       "<style scoped>\n",
       "    .dataframe tbody tr th:only-of-type {\n",
       "        vertical-align: middle;\n",
       "    }\n",
       "\n",
       "    .dataframe tbody tr th {\n",
       "        vertical-align: top;\n",
       "    }\n",
       "\n",
       "    .dataframe thead th {\n",
       "        text-align: right;\n",
       "    }\n",
       "</style>\n",
       "<table border=\"1\" class=\"dataframe\">\n",
       "  <thead>\n",
       "    <tr style=\"text-align: right;\">\n",
       "      <th></th>\n",
       "      <th>msisdn_1</th>\n",
       "      <th>msisdn_2</th>\n",
       "      <th>person_id</th>\n",
       "    </tr>\n",
       "  </thead>\n",
       "  <tbody>\n",
       "    <tr>\n",
       "      <th>0</th>\n",
       "      <td>158520145943</td>\n",
       "      <td>1.585240e+11</td>\n",
       "      <td>0</td>\n",
       "    </tr>\n",
       "    <tr>\n",
       "      <th>1</th>\n",
       "      <td>158534117157</td>\n",
       "      <td>1.585289e+11</td>\n",
       "      <td>1</td>\n",
       "    </tr>\n",
       "    <tr>\n",
       "      <th>2</th>\n",
       "      <td>158509011511</td>\n",
       "      <td>1.585289e+11</td>\n",
       "      <td>2</td>\n",
       "    </tr>\n",
       "    <tr>\n",
       "      <th>3</th>\n",
       "      <td>158516910421</td>\n",
       "      <td>1.585009e+11</td>\n",
       "      <td>3</td>\n",
       "    </tr>\n",
       "    <tr>\n",
       "      <th>4</th>\n",
       "      <td>158536543525</td>\n",
       "      <td>1.585289e+11</td>\n",
       "      <td>4</td>\n",
       "    </tr>\n",
       "  </tbody>\n",
       "</table>\n",
       "</div>"
      ],
      "text/plain": [
       "       msisdn_1      msisdn_2  person_id\n",
       "0  158520145943  1.585240e+11          0\n",
       "1  158534117157  1.585289e+11          1\n",
       "2  158509011511  1.585289e+11          2\n",
       "3  158516910421  1.585009e+11          3\n",
       "4  158536543525  1.585289e+11          4"
      ]
     },
     "execution_count": 27,
     "metadata": {},
     "output_type": "execute_result"
    }
   ],
   "source": [
    "result.head()"
   ]
  },
  {
   "cell_type": "code",
   "execution_count": 28,
   "metadata": {},
   "outputs": [],
   "source": [
    "#result.to_csv('result.csv')"
   ]
  },
  {
   "cell_type": "code",
   "execution_count": null,
   "metadata": {},
   "outputs": [],
   "source": []
  }
 ],
 "metadata": {
  "kernelspec": {
   "display_name": "Python 3",
   "language": "python",
   "name": "python3"
  },
  "language_info": {
   "codemirror_mode": {
    "name": "ipython",
    "version": 3
   },
   "file_extension": ".py",
   "mimetype": "text/x-python",
   "name": "python",
   "nbconvert_exporter": "python",
   "pygments_lexer": "ipython3",
   "version": "3.7.6"
  }
 },
 "nbformat": 4,
 "nbformat_minor": 4
}
